{
 "cells": [
  {
   "cell_type": "code",
   "id": "initial_id",
   "metadata": {
    "collapsed": true,
    "ExecuteTime": {
     "end_time": "2024-10-17T19:52:04.292179Z",
     "start_time": "2024-10-17T19:52:03.845073Z"
    }
   },
   "source": [
    "from ultralytics import YOLO\n",
    "# Load a model\n",
    "model = YOLO (\"runs/detect/train/weights/best.pt\")\n",
    "# Perform object detection on an image\n",
    "results = model(\"Tumor Detection/test/images/glioma_415_jpg.rf.5205038d338b9add63b4ac6bc7840027.jpg\",\n",
    "                save=True)\n",
    "results [0].show()"
   ],
   "outputs": [
    {
     "name": "stdout",
     "output_type": "stream",
     "text": [
      "\n",
      "image 1/1 /Users/macbook/Desktop/Yolov11/Tumor Detection/test/images/glioma_415_jpg.rf.5205038d338b9add63b4ac6bc7840027.jpg: 640x640 1 glioma, 88.1ms\n",
      "Speed: 2.4ms preprocess, 88.1ms inference, 0.7ms postprocess per image at shape (1, 3, 640, 640)\n",
      "Results saved to \u001B[1mruns/detect/predict11\u001B[0m\n"
     ]
    }
   ],
   "execution_count": 13
  },
  {
   "metadata": {},
   "cell_type": "code",
   "source": "",
   "id": "1548a8737d87d015",
   "outputs": [],
   "execution_count": null
  }
 ],
 "metadata": {
  "kernelspec": {
   "display_name": "Python 3",
   "language": "python",
   "name": "python3"
  },
  "language_info": {
   "codemirror_mode": {
    "name": "ipython",
    "version": 2
   },
   "file_extension": ".py",
   "mimetype": "text/x-python",
   "name": "python",
   "nbconvert_exporter": "python",
   "pygments_lexer": "ipython2",
   "version": "2.7.6"
  }
 },
 "nbformat": 4,
 "nbformat_minor": 5
}
